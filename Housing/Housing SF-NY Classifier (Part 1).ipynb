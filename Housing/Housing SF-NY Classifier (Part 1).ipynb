{
 "cells": [
  {
   "cell_type": "markdown",
   "metadata": {},
   "source": [
    "## Welcome!  <img align=\"right\" src=\"machine.png\">\n",
    "\n",
    "Machine Learning (ML) is a huge topic with many complicated algorithms and concepts, depending on what exactly **what** it is you want to 'learn' and **how** you want to 'learn it'."
   ]
  },
  {
   "cell_type": "markdown",
   "metadata": {},
   "source": [
    "## Machine Learning Eco-System (kinda) \n",
    "\n",
    "The *what* for today is, given a set of housing data, can we classify whether the home is located in SF or NY?\n",
    "\n",
    "For the *how*, we'll be learning about decision trees, training a simple model, and making some predicitons.\n",
    "\n",
    "![Map](learning_map.png)\n",
    "\n",
    "Image Credit: https://simon32.github.io/2018/11/23/ML1/"
   ]
  },
  {
   "cell_type": "markdown",
   "metadata": {},
   "source": [
    "## D is for Data \n",
    "\n",
    "Today we're focusing on the *applied* part of Machine Learning (ML), so we're assuming clean, organized data.\n",
    "\n",
    "In *the wild* as they say, you'll normally have to find, scrape/procure, and clean it yourself.\n",
    "\n",
    "I'll include some helpful resources at the end."
   ]
  },
  {
   "cell_type": "markdown",
   "metadata": {},
   "source": [
    "## But on that note...\n",
    "\n",
    "#### Gabage In, Garbage Out\n",
    "\n",
    "ML is data dependent and data hungry.  Before ML can even begin, data needs to be tracked, stored, cleaned, and analyzed.  With proper data practices, even the most sophisticated ML algorithms won't help you.\n",
    "\n",
    "While this certainly applies to hype about blockchain, as stated in the picture, it equally applied to Machine Learning.\n",
    "\n",
    "`Junk + Machine Learning = Still Junk`\n",
    "\n",
    "![GIGO](gigo.png)\n",
    "\n",
    "Source: https://medium.com/proofofimpact/garbage-in-garbage-out-gigo-on-the-blockchain-b55f20f6dada"
   ]
  },
  {
   "cell_type": "markdown",
   "metadata": {},
   "source": [
    "# Today's Toolkit"
   ]
  },
  {
   "cell_type": "markdown",
   "metadata": {},
   "source": [
    "## Python - Jumping on the bandwagon\n",
    "\n",
    "- Simple, easy to learn syntax\n",
    "- There's a package for that\n",
    "- Fast edit-test-debug cycle\n",
    "\n",
    "Source: https://www.python.org/doc/essays/blurb/"
   ]
  },
  {
   "cell_type": "code",
   "execution_count": 6,
   "metadata": {},
   "outputs": [
    {
     "ename": "TypeError",
     "evalue": "can't multiply sequence by non-int of type 'str'",
     "output_type": "error",
     "traceback": [
      "\u001b[0;31m---------------------------------------------------------------------------\u001b[0m",
      "\u001b[0;31mTypeError\u001b[0m                                 Traceback (most recent call last)",
      "\u001b[0;32m<ipython-input-6-718bdc56b500>\u001b[0m in \u001b[0;36m<module>\u001b[0;34m()\u001b[0m\n\u001b[1;32m      2\u001b[0m     \u001b[0;32mreturn\u001b[0m \u001b[0;34m\"Hello World\"\u001b[0m \u001b[0;34m+\u001b[0m \u001b[0;34m(\u001b[0m\u001b[0mintensity\u001b[0m \u001b[0;34m*\u001b[0m \u001b[0;34m\"!\"\u001b[0m\u001b[0;34m)\u001b[0m\u001b[0;34m\u001b[0m\u001b[0m\n\u001b[1;32m      3\u001b[0m \u001b[0;34m\u001b[0m\u001b[0m\n\u001b[0;32m----> 4\u001b[0;31m \u001b[0moutput\u001b[0m \u001b[0;34m=\u001b[0m \u001b[0mmake_hello_world\u001b[0m\u001b[0;34m(\u001b[0m\u001b[0;34m\"A\"\u001b[0m\u001b[0;34m)\u001b[0m\u001b[0;34m\u001b[0m\u001b[0m\n\u001b[0m\u001b[1;32m      5\u001b[0m \u001b[0mprint\u001b[0m\u001b[0;34m(\u001b[0m\u001b[0moutput\u001b[0m\u001b[0;34m)\u001b[0m\u001b[0;34m\u001b[0m\u001b[0m\n\u001b[1;32m      6\u001b[0m \u001b[0;34m\u001b[0m\u001b[0m\n",
      "\u001b[0;32m<ipython-input-6-718bdc56b500>\u001b[0m in \u001b[0;36mmake_hello_world\u001b[0;34m(intensity)\u001b[0m\n\u001b[1;32m      1\u001b[0m \u001b[0;32mdef\u001b[0m \u001b[0mmake_hello_world\u001b[0m\u001b[0;34m(\u001b[0m\u001b[0mintensity\u001b[0m\u001b[0;34m)\u001b[0m\u001b[0;34m:\u001b[0m\u001b[0;34m\u001b[0m\u001b[0m\n\u001b[0;32m----> 2\u001b[0;31m     \u001b[0;32mreturn\u001b[0m \u001b[0;34m\"Hello World\"\u001b[0m \u001b[0;34m+\u001b[0m \u001b[0;34m(\u001b[0m\u001b[0mintensity\u001b[0m \u001b[0;34m*\u001b[0m \u001b[0;34m\"!\"\u001b[0m\u001b[0;34m)\u001b[0m\u001b[0;34m\u001b[0m\u001b[0m\n\u001b[0m\u001b[1;32m      3\u001b[0m \u001b[0;34m\u001b[0m\u001b[0m\n\u001b[1;32m      4\u001b[0m \u001b[0moutput\u001b[0m \u001b[0;34m=\u001b[0m \u001b[0mmake_hello_world\u001b[0m\u001b[0;34m(\u001b[0m\u001b[0;34m\"A\"\u001b[0m\u001b[0;34m)\u001b[0m\u001b[0;34m\u001b[0m\u001b[0m\n\u001b[1;32m      5\u001b[0m \u001b[0mprint\u001b[0m\u001b[0;34m(\u001b[0m\u001b[0moutput\u001b[0m\u001b[0;34m)\u001b[0m\u001b[0;34m\u001b[0m\u001b[0m\n",
      "\u001b[0;31mTypeError\u001b[0m: can't multiply sequence by non-int of type 'str'"
     ]
    }
   ],
   "source": [
    "def make_hello_world(intensity):\n",
    "    return \"Hello World\" + (intensity * \"!\")\n",
    "    \n",
    "output = make_hello_world(\"A\")\n",
    "print(output)\n",
    "\n",
    "#demonstrate error/stacktrace"
   ]
  },
  {
   "cell_type": "markdown",
   "metadata": {},
   "source": [
    "## The Incredible Growth Of Python\n",
    "\n",
    "An interesting blog post from Stack Overflow with charts based on question views per language.\n",
    "\n",
    "![Python Growth ](projections.png)\n",
    "\n",
    "![Python Growth Small](small_projections.png)\n",
    "\n",
    "Source: https://stackoverflow.blog/2017/09/06/incredible-growth-python"
   ]
  },
  {
   "cell_type": "markdown",
   "metadata": {},
   "source": [
    "##   What is a Jupyter Notebook? <img align=\"left\" src=\"jupyter.svg\" style=\"margin: 5px 20px\">\n",
    "\n",
    "The Jupyter Notebook is an open-source web application that allows you to create and share documents that contain live code, equations, visualizations and narrative text. Uses include: data cleaning and transformation, numerical simulation, statistical modeling, data visualization, machine learning, and much more.\n",
    "\n",
    "https://jupyter.org\n",
    "\n",
    "I've been loving Jupyter Notebooks since I've discovered them.  They're great for writing code, visualizing code, and discussing code with markdown!  \n",
    "\n",
    "This whole notebook is your example..."
   ]
  },
  {
   "cell_type": "markdown",
   "metadata": {},
   "source": [
    "## What is Pandas? <img align=\"right\" src=\"py_pandas.png\">\n",
    "\n",
    "pandas is an open source, BSD-licensed library providing high-performance, easy-to-use data structures and data analysis tools for the Python programming language.\n",
    "\n",
    "https://pandas.pydata.org/pandas-docs/stable/ "
   ]
  },
  {
   "cell_type": "code",
   "execution_count": null,
   "metadata": {},
   "outputs": [],
   "source": [
    "import pandas as pd\n",
    "\n",
    "data = {'name': [\"Clinton\", \"Dylan\", \"Jack\"],\n",
    "     'age': [2, 45, 102]} \n",
    "\n",
    "df = pd.DataFrame(data)\n",
    "df"
   ]
  },
  {
   "cell_type": "code",
   "execution_count": null,
   "metadata": {},
   "outputs": [],
   "source": [
    "# A year's gone by?  Need to adjust an entire 'series'?\n",
    "# series = a single column within a DataFrame (aka vector, aka array but not exactly)\n",
    "df.age = df['age'] + 1\n",
    "df"
   ]
  },
  {
   "cell_type": "markdown",
   "metadata": {},
   "source": [
    "## Linear Algebra Anyone?\n",
    "\n",
    "Under the hood matrix multiplication makes operations applied to an entire series very performant on large datasets.\n",
    "\n",
    "Let's save that for another day..."
   ]
  },
  {
   "cell_type": "markdown",
   "metadata": {},
   "source": [
    "## Can we write some dang code yet?\n",
    "\n",
    "#### Today's tutorial here:\n",
    "http://www.r2d3.us/visual-intro-to-machine-learning-part-1/\n",
    "\n",
    "#### Today's dataset available here:\n",
    "\n",
    "https://github.com/jadeyee/r2d3-part-1-data/blob/master/part_1_data.csv"
   ]
  },
  {
   "cell_type": "code",
   "execution_count": null,
   "metadata": {},
   "outputs": [],
   "source": [
    "#best practice to import pandas as the variable pd\n",
    "import pandas as pd\n",
    "\n",
    "#the first two lines are commentary so they need skipped\n",
    "#besides that, pandas automatically reads the csv \n",
    "#right into a dataframe with headers!\n",
    "df = pd.read_csv(\"housing_SF_NY.csv\", skiprows=2)"
   ]
  },
  {
   "cell_type": "code",
   "execution_count": null,
   "metadata": {},
   "outputs": [],
   "source": [
    "#nice concise look at the first 5 rows of data\n",
    "df.head()"
   ]
  },
  {
   "cell_type": "code",
   "execution_count": null,
   "metadata": {},
   "outputs": [],
   "source": [
    "#number of rows vs number of columns\n",
    "df.shape"
   ]
  },
  {
   "cell_type": "code",
   "execution_count": null,
   "metadata": {},
   "outputs": [],
   "source": [
    "#get a sense of counts and names of columns\n",
    "#sometimes data is in a different format than you thought\n",
    "#drop rows that have N/A data\n",
    "df.info()"
   ]
  },
  {
   "cell_type": "code",
   "execution_count": null,
   "metadata": {},
   "outputs": [],
   "source": [
    "# class distribution\n",
    "# in this dataset, in_sf is the target\n",
    "# 0 and 1 are our labels for the target\n",
    "# someone correct me if I misuse any of these terms\n",
    "df.groupby('in_sf').size()"
   ]
  },
  {
   "cell_type": "code",
   "execution_count": null,
   "metadata": {},
   "outputs": [],
   "source": [
    "#seaborn is a very simple visualizaiton framework for those of us (me)\n",
    "#who aren't very savy in such things\n",
    "import seaborn as sns\n",
    "import matplotlib.pyplot as plt\n",
    "\n",
    "#essentially, a scatter plot of the dataframe assigning the \n",
    "#'target' to 'hue' in order to see the classifications of our data\n",
    "sns.lmplot('price_per_sqft', 'elevation', df, hue='in_sf', fit_reg=False)\n",
    "\n",
    "#gcf = get current figure\n",
    "figure = plt.gcf()\n",
    "\n",
    "#just changes the scale of the plot on the screen\n",
    "figure.set_size_inches(15, 10)\n",
    "\n",
    "#show the plot\n",
    "plt.show()"
   ]
  },
  {
   "cell_type": "code",
   "execution_count": null,
   "metadata": {},
   "outputs": [],
   "source": [
    "#one line, lots of info!\n",
    "sns.pairplot(df)\n",
    "\n",
    "# #something better\n",
    "# sns.pairplot(df, hue = 'in_sf', diag_kind = 'kde',\n",
    "#              plot_kws = {'alpha': 0.6, 's': 80, 'edgecolor': 'k'},\n",
    "#              size = 4)\n",
    "\n",
    "#helps us find correlations in the data"
   ]
  },
  {
   "cell_type": "markdown",
   "metadata": {},
   "source": [
    "## Split-out a validation dataset"
   ]
  },
  {
   "cell_type": "code",
   "execution_count": null,
   "metadata": {},
   "outputs": [],
   "source": [
    "#take the target series\n",
    "Y = df['in_sf']\n",
    "\n",
    "#take all other data except the target series\n",
    "X = df.drop('in_sf', axis=1)\n",
    "\n",
    "#only train with 80% of our data, keep the other 20% for validation\n",
    "validation_size = 0.20\n",
    "\n",
    "#assign a random state if you want the split to be consistent every time\n",
    "#I can see benefits to managing seed state when developing\n",
    "#but in evaluating your model you likely want to keep it random\n",
    "#but what do I know...\n",
    "seed = 7"
   ]
  },
  {
   "cell_type": "code",
   "execution_count": null,
   "metadata": {},
   "outputs": [],
   "source": [
    "#sklearn is a machine learning library with plenty of \n",
    "#out of the box models for you to play with and tweak\n",
    "\n",
    "from sklearn import model_selection\n",
    "\n",
    "X_train, X_test, Y_train, Y_test = model_selection.train_test_split(X, Y, test_size=validation_size, random_state=seed)"
   ]
  },
  {
   "cell_type": "code",
   "execution_count": null,
   "metadata": {},
   "outputs": [],
   "source": [
    "print(X_train.shape)\n",
    "print(X_test.shape)\n",
    "print(Y_train.shape)\n",
    "print(Y_test.shape)"
   ]
  },
  {
   "cell_type": "markdown",
   "metadata": {},
   "source": [
    "## Now For The Machine Learning!"
   ]
  },
  {
   "cell_type": "code",
   "execution_count": 7,
   "metadata": {},
   "outputs": [
    {
     "ename": "NameError",
     "evalue": "name 'X_train' is not defined",
     "output_type": "error",
     "traceback": [
      "\u001b[0;31m---------------------------------------------------------------------------\u001b[0m",
      "\u001b[0;31mNameError\u001b[0m                                 Traceback (most recent call last)",
      "\u001b[0;32m<ipython-input-7-84bee7977031>\u001b[0m in \u001b[0;36m<module>\u001b[0;34m()\u001b[0m\n\u001b[1;32m      2\u001b[0m \u001b[0;34m\u001b[0m\u001b[0m\n\u001b[1;32m      3\u001b[0m \u001b[0mmodel\u001b[0m \u001b[0;34m=\u001b[0m \u001b[0mDecisionTreeClassifier\u001b[0m\u001b[0;34m(\u001b[0m\u001b[0;34m)\u001b[0m\u001b[0;34m\u001b[0m\u001b[0m\n\u001b[0;32m----> 4\u001b[0;31m \u001b[0mmodel\u001b[0m\u001b[0;34m.\u001b[0m\u001b[0mfit\u001b[0m\u001b[0;34m(\u001b[0m\u001b[0mX_train\u001b[0m\u001b[0;34m,\u001b[0m \u001b[0mY_train\u001b[0m\u001b[0;34m)\u001b[0m\u001b[0;34m\u001b[0m\u001b[0m\n\u001b[0m",
      "\u001b[0;31mNameError\u001b[0m: name 'X_train' is not defined"
     ]
    }
   ],
   "source": [
    "from sklearn.tree import DecisionTreeClassifier\n",
    "\n",
    "model = DecisionTreeClassifier()\n",
    "model.fit(X_train, Y_train)"
   ]
  },
  {
   "cell_type": "code",
   "execution_count": null,
   "metadata": {},
   "outputs": [],
   "source": []
  },
  {
   "cell_type": "markdown",
   "metadata": {},
   "source": [
    "#### Hmm, that was anticlimactic..."
   ]
  },
  {
   "cell_type": "markdown",
   "metadata": {},
   "source": [
    "### A correct SF prediction"
   ]
  },
  {
   "cell_type": "code",
   "execution_count": null,
   "metadata": {},
   "outputs": [],
   "source": [
    "record = X_test.iloc[[10]]\n",
    "print(record)\n",
    "print(\"\\n\")\n",
    "\n",
    "target = Y_test.iloc[[10]]\n",
    "print(target)\n",
    "print(\"\\n\")\n",
    "\n",
    "prediction = model.predict(record)\n",
    "print(prediction)"
   ]
  },
  {
   "cell_type": "markdown",
   "metadata": {},
   "source": [
    "### A correct NY prediction"
   ]
  },
  {
   "cell_type": "code",
   "execution_count": null,
   "metadata": {},
   "outputs": [],
   "source": [
    "record = X_test.iloc[[40]]\n",
    "print(record)\n",
    "print(\"\\n\")\n",
    "\n",
    "target = Y_test.iloc[[40]]\n",
    "print(target)\n",
    "print(\"\\n\")\n",
    "\n",
    "prediction = model.predict(record)\n",
    "print(prediction)"
   ]
  },
  {
   "cell_type": "markdown",
   "metadata": {},
   "source": [
    "### An incorrect NY prediction :("
   ]
  },
  {
   "cell_type": "code",
   "execution_count": null,
   "metadata": {},
   "outputs": [],
   "source": [
    "record = X_test.iloc[[0]]\n",
    "print(record)\n",
    "print(\"\\n\")\n",
    "\n",
    "target = Y_test.iloc[[0]]\n",
    "print(target)\n",
    "print(\"\\n\")\n",
    "\n",
    "#a correct NY prediction\n",
    "prediction = model.predict(record)\n",
    "print(prediction)"
   ]
  },
  {
   "cell_type": "markdown",
   "metadata": {},
   "source": [
    "## So, how accurate is our simple model?"
   ]
  },
  {
   "cell_type": "code",
   "execution_count": null,
   "metadata": {},
   "outputs": [],
   "source": [
    "from sklearn.metrics import accuracy_score\n",
    "\n",
    "Y_pred = model.predict(X_test)\n",
    "score = accuracy_score(Y_test, Y_pred)*100\n",
    "score"
   ]
  },
  {
   "cell_type": "code",
   "execution_count": null,
   "metadata": {},
   "outputs": [],
   "source": [
    "from sklearn.metrics import confusion_matrix\n",
    "\n",
    "# 32 NY homes correctly identified as NY\n",
    "# 11 SF homes incorrectly identified as NY\n",
    "# 5 NY homes incorrectly identified as SF\n",
    "# 51 SF homes correctly identified as SF\n",
    "\n",
    "#Our particular model tends to do better classifying SF homes correctly\n",
    "\n",
    "confusion_matrix(Y_test, Y_pred)"
   ]
  },
  {
   "cell_type": "code",
   "execution_count": null,
   "metadata": {},
   "outputs": [],
   "source": [
    "from sklearn.linear_model import LogisticRegression\n",
    "from sklearn.tree import DecisionTreeClassifier\n",
    "from sklearn.neighbors import KNeighborsClassifier\n",
    "from sklearn.discriminant_analysis import LinearDiscriminantAnalysis\n",
    "from sklearn.naive_bayes import GaussianNB\n",
    "from sklearn.svm import SVC\n",
    "\n",
    "# Spot Check Algorithms\n",
    "models = []\n",
    "models.append(('LR', LogisticRegression(solver='liblinear', multi_class='ovr')))\n",
    "models.append(('LDA', LinearDiscriminantAnalysis()))\n",
    "models.append(('KNN', KNeighborsClassifier()))\n",
    "models.append(('CART', DecisionTreeClassifier()))\n",
    "models.append(('NB', GaussianNB()))\n",
    "models.append(('SVM', SVC(gamma='auto')))\n",
    "# evaluate each model in turn\n",
    "results = []\n",
    "names = []\n",
    "for name, model in models:\n",
    "\tkfold = model_selection.KFold(n_splits=10, random_state=seed)\n",
    "\tcv_results = model_selection.cross_val_score(model, X_train, Y_train, cv=kfold, scoring='accuracy')\n",
    "\tresults.append(cv_results)\n",
    "\tnames.append(name)\n",
    "\tmsg = \"%s: %f (%f)\" % (name, cv_results.mean(), cv_results.std())\n",
    "\tprint(msg)"
   ]
  },
  {
   "cell_type": "markdown",
   "metadata": {},
   "source": [
    "## Resources"
   ]
  },
  {
   "cell_type": "markdown",
   "metadata": {},
   "source": [
    "#### Data science resources, datasets, a lot of competitions\n",
    "http://kaggle.com\n",
    "\n",
    "#### Udemy\n",
    "https://www.udemy.com/user/lazy-programmer/\n",
    "\n",
    "#### Machine Learning Guide Podcast\n",
    "http://ocdevel.com/mlg\n",
    "\n",
    "#### A great site for learning and practicing Data Science\n",
    "https://www.datacamp.com\n",
    "    \n",
    "#### Start getting into the math and intuition of ML\n",
    "https://www.coursera.org/learn/machine-learning\n",
    "\n",
    "#### Join the Advanced Analytics group!!!\n",
    "https://teams.microsoft.com/l/team/19%3a3c1649f218144647965d566a97cbd887%40thread.skype/conversations?groupId=52ff42ca-f945-4baf-9b9d-d31043a54ece&tenantId=ae9d6e9a-cc18-4204-ac29-43a0ccb860e8"
   ]
  }
 ],
 "metadata": {
  "kernelspec": {
   "display_name": "Python 3",
   "language": "python",
   "name": "python3"
  },
  "language_info": {
   "codemirror_mode": {
    "name": "ipython",
    "version": 3
   },
   "file_extension": ".py",
   "mimetype": "text/x-python",
   "name": "python",
   "nbconvert_exporter": "python",
   "pygments_lexer": "ipython3",
   "version": "3.6.5"
  }
 },
 "nbformat": 4,
 "nbformat_minor": 2
}
